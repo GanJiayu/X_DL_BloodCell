{
 "cells": [
  {
   "cell_type": "code",
   "execution_count": 1,
   "metadata": {},
   "outputs": [],
   "source": [
    "%load_ext autoreload\n",
    "%autoreload 2"
   ]
  },
  {
   "cell_type": "code",
   "execution_count": 2,
   "metadata": {},
   "outputs": [
    {
     "name": "stderr",
     "output_type": "stream",
     "text": [
      "Using TensorFlow backend.\n"
     ]
    }
   ],
   "source": [
    "import os\n",
    "import sys\n",
    "import argparse\n",
    "import json\n",
    "import pandas as pd\n",
    "import keras\n",
    "import tensorflow as tf\n",
    "assert(tf.__version__ == \"1.15.2\")\n",
    "assert(keras.__version__ == \"2.2.4\")\n",
    "import warnings\n",
    "warnings.filterwarnings('ignore')\n",
    "\n",
    "# Define working directory\n",
    "ROOT_DIR = os.path.abspath(\"../\")\n",
    "sys.path.append(ROOT_DIR)\n",
    "ROOT_DIR = os.path.abspath(\"../../\")\n",
    "sys.path.append(ROOT_DIR)\n",
    "\n",
    "from mrcnn import utils\n",
    "import mrcnn.model as modellib\n",
    "from mrcnn import visualize\n",
    "from utils.dataset import BloodCellDataset, BloodCellDatasetFromDataFrame\n",
    "from utils.configs import BloodCellConfig_A, BloodCellConfig_B\n",
    "\n",
    "# Directory to save logs and trained model\n",
    "MODEL_DIR = os.path.join(ROOT_DIR, \"maskrcnn-master\",\"logs\")\n",
    "\n",
    "# Local path to trained weights file\n",
    "COCO_MODEL_PATH = os.path.join(ROOT_DIR, \"maskrcnn-master\", \"mask_rcnn_coco.h5\")\n",
    "\n",
    "# Directory of images to run detection on\n",
    "IMAGE_DIR_A = os.path.join(ROOT_DIR, \"BCCD_Dataset/BCCD\")\n",
    "\n",
    "# Directory of images to run detection on\n",
    "IMAGE_DIR_B = os.path.join(ROOT_DIR, \"segmentation_WBC\")\n",
    "\n",
    "if not os.path.exists(COCO_MODEL_PATH):\n",
    "    utils.download_trained_weights(COCO_MODEL_PATH)\n",
    "\n",
    "IMAGE_COLLECTION_PATH = r'../blood_cell_dataset.pkl'\n"
   ]
  },
  {
   "cell_type": "code",
   "execution_count": 3,
   "metadata": {},
   "outputs": [
    {
     "name": "stdout",
     "output_type": "stream",
     "text": [
      "Number of samples in training set A: 295\n",
      "Number of samples in training set B: 100\n",
      "Number of samples in valid set: 69\n"
     ]
    }
   ],
   "source": [
    "if not os.path.exists(IMAGE_COLLECTION_PATH):\n",
    "    raise Exception(f\"IC_PATH @ {IMAGE_COLLECTION_PATH} not found.\")\n",
    "else:\n",
    "    dataset = pd.read_pickle(IMAGE_COLLECTION_PATH)\n",
    "    train_samples_A = dataset[(dataset[\"role\"] == \"train\")&(dataset[\"origin\"] == \"A\")]\n",
    "    train_samples_B = dataset[(dataset[\"role\"] == \"train\")&(dataset[\"origin\"] == \"B\")]\n",
    "    val_samples = dataset[dataset[\"role\"] == \"val\"]\n",
    "\n",
    "print(f\"Number of samples in training set A: {len(train_samples_A)}\")\n",
    "print(f\"Number of samples in training set B: {len(train_samples_B)}\")\n",
    "print(f\"Number of samples in valid set: {len(val_samples)}\")"
   ]
  },
  {
   "cell_type": "code",
   "execution_count": 4,
   "metadata": {},
   "outputs": [],
   "source": [
    "dataset_train_A = BloodCellDatasetFromDataFrame(train_samples_A, directory_path_A = IMAGE_DIR_A)\n",
    "dataset_train_A.load_kernel()\n",
    "\n",
    "dataset_train_B = BloodCellDatasetFromDataFrame(train_samples_B, directory_path_B = IMAGE_DIR_B)\n",
    "dataset_train_B.load_kernel()\n",
    "\n",
    "dataset_val = BloodCellDatasetFromDataFrame(val_samples, directory_path_A = IMAGE_DIR_A)\n",
    "dataset_val.load_kernel()"
   ]
  },
  {
   "cell_type": "code",
   "execution_count": 5,
   "metadata": {},
   "outputs": [],
   "source": [
    "config_A = BloodCellConfig_A()\n",
    "config_A.STEPS_PER_EPOCH = 400\n",
    "config_A.LEARNING_RATE = 1e-3\n",
    "config_A.NAME = \"BloodCell\"\n",
    "\n",
    "config_B = BloodCellConfig_B()\n",
    "config_B.STEPS_PER_EPOCH = 100\n",
    "config_B.LEARNING_RATE = 1e-4\n",
    "config_B.NAME = \"BloodCell\""
   ]
  },
  {
   "cell_type": "markdown",
   "metadata": {},
   "source": [
    "# Stage A: train model on train_A (BBox and Classes)"
   ]
  },
  {
   "cell_type": "code",
   "execution_count": null,
   "metadata": {
    "scrolled": true
   },
   "outputs": [],
   "source": [
    "# Create model in training mode\n",
    "model = modellib.MaskRCNN(mode=\"training\", config=config_A,\n",
    "                          model_dir=MODEL_DIR)\n",
    "model.load_weights(COCO_MODEL_PATH, by_name=True,\n",
    "                   exclude=[\"mrcnn_class_logits\", \"mrcnn_bbox_fc\", \"mrcnn_bbox\", \"mrcnn_mask\"])"
   ]
  },
  {
   "cell_type": "code",
   "execution_count": null,
   "metadata": {
    "scrolled": true
   },
   "outputs": [],
   "source": [
    "model.train(dataset_train_A, dataset_val,\n",
    "            learning_rate=config_A.LEARNING_RATE,\n",
    "            epochs=5,\n",
    "            layers='heads')"
   ]
  },
  {
   "cell_type": "code",
   "execution_count": null,
   "metadata": {},
   "outputs": [],
   "source": [
    "model.train(dataset_train_A, dataset_val,\n",
    "            learning_rate=config_A.LEARNING_RATE,\n",
    "            epochs=25,\n",
    "            layers=\"all\")"
   ]
  },
  {
   "cell_type": "code",
   "execution_count": 6,
   "metadata": {
    "scrolled": false
   },
   "outputs": [
    {
     "name": "stdout",
     "output_type": "stream",
     "text": [
      "WARNING:tensorflow:From /home/jiayu.gan/anaconda3/envs/DL/lib/python3.7/site-packages/keras/backend/tensorflow_backend.py:517: The name tf.placeholder is deprecated. Please use tf.compat.v1.placeholder instead.\n",
      "\n",
      "WARNING:tensorflow:From /home/jiayu.gan/anaconda3/envs/DL/lib/python3.7/site-packages/keras/backend/tensorflow_backend.py:74: The name tf.get_default_graph is deprecated. Please use tf.compat.v1.get_default_graph instead.\n",
      "\n",
      "WARNING:tensorflow:From /home/jiayu.gan/anaconda3/envs/DL/lib/python3.7/site-packages/keras/backend/tensorflow_backend.py:4138: The name tf.random_uniform is deprecated. Please use tf.random.uniform instead.\n",
      "\n",
      "WARNING:tensorflow:From /home/jiayu.gan/anaconda3/envs/DL/lib/python3.7/site-packages/keras/backend/tensorflow_backend.py:1919: The name tf.nn.fused_batch_norm is deprecated. Please use tf.compat.v1.nn.fused_batch_norm instead.\n",
      "\n",
      "WARNING:tensorflow:From /home/jiayu.gan/anaconda3/envs/DL/lib/python3.7/site-packages/keras/backend/tensorflow_backend.py:3976: The name tf.nn.max_pool is deprecated. Please use tf.nn.max_pool2d instead.\n",
      "\n",
      "WARNING:tensorflow:From /home/jiayu.gan/anaconda3/envs/DL/lib/python3.7/site-packages/keras/backend/tensorflow_backend.py:2018: The name tf.image.resize_nearest_neighbor is deprecated. Please use tf.compat.v1.image.resize_nearest_neighbor instead.\n",
      "\n",
      "WARNING:tensorflow:From /home/jiayu.gan/anaconda3/envs/DL/lib/python3.7/site-packages/tensorflow_core/python/ops/array_ops.py:1475: where (from tensorflow.python.ops.array_ops) is deprecated and will be removed in a future version.\n",
      "Instructions for updating:\n",
      "Use tf.where in 2.0, which has the same broadcast rule as np.where\n",
      "WARNING:tensorflow:From /home/jiayu.gan/Inarix/HEC/maskrcnn/maskrcnn-master/mrcnn/model.py:553: The name tf.random_shuffle is deprecated. Please use tf.random.shuffle instead.\n",
      "\n",
      "WARNING:tensorflow:From /home/jiayu.gan/Inarix/HEC/maskrcnn/maskrcnn-master/mrcnn/utils.py:202: The name tf.log is deprecated. Please use tf.math.log instead.\n",
      "\n",
      "WARNING:tensorflow:From /home/jiayu.gan/Inarix/HEC/maskrcnn/maskrcnn-master/mrcnn/model.py:600: calling crop_and_resize_v1 (from tensorflow.python.ops.image_ops_impl) with box_ind is deprecated and will be removed in a future version.\n",
      "Instructions for updating:\n",
      "box_ind is deprecated, use box_indices instead\n",
      "WARNING:tensorflow:From /home/jiayu.gan/anaconda3/envs/DL/lib/python3.7/site-packages/keras/backend/tensorflow_backend.py:174: The name tf.get_default_session is deprecated. Please use tf.compat.v1.get_default_session instead.\n",
      "\n",
      "WARNING:tensorflow:From /home/jiayu.gan/anaconda3/envs/DL/lib/python3.7/site-packages/keras/backend/tensorflow_backend.py:181: The name tf.ConfigProto is deprecated. Please use tf.compat.v1.ConfigProto instead.\n",
      "\n",
      "WARNING:tensorflow:From /home/jiayu.gan/anaconda3/envs/DL/lib/python3.7/site-packages/keras/backend/tensorflow_backend.py:186: The name tf.Session is deprecated. Please use tf.compat.v1.Session instead.\n",
      "\n",
      "WARNING:tensorflow:From /home/jiayu.gan/anaconda3/envs/DL/lib/python3.7/site-packages/keras/backend/tensorflow_backend.py:190: The name tf.global_variables is deprecated. Please use tf.compat.v1.global_variables instead.\n",
      "\n",
      "WARNING:tensorflow:From /home/jiayu.gan/anaconda3/envs/DL/lib/python3.7/site-packages/keras/backend/tensorflow_backend.py:199: The name tf.is_variable_initialized is deprecated. Please use tf.compat.v1.is_variable_initialized instead.\n",
      "\n",
      "WARNING:tensorflow:From /home/jiayu.gan/anaconda3/envs/DL/lib/python3.7/site-packages/keras/backend/tensorflow_backend.py:206: The name tf.variables_initializer is deprecated. Please use tf.compat.v1.variables_initializer instead.\n",
      "\n",
      "Re-starting from epoch 25\n",
      "\n",
      "Starting at epoch 25. LR=0.0001\n",
      "\n",
      "Checkpoint Path: /home/jiayu.gan/Inarix/HEC/maskrcnn/maskrcnn-master/logs/bloodcell20201215T1523/mask_rcnn_bloodcell_{epoch:04d}.h5\n",
      "Selecting layers to train\n",
      "In model:  rpn_model\n",
      "mrcnn_mask_conv1       (TimeDistributed)\n",
      "mrcnn_mask_bn1         (TimeDistributed)\n",
      "mrcnn_mask_conv2       (TimeDistributed)\n",
      "mrcnn_mask_bn2         (TimeDistributed)\n",
      "mrcnn_mask_conv3       (TimeDistributed)\n",
      "mrcnn_mask_bn3         (TimeDistributed)\n",
      "mrcnn_mask_conv4       (TimeDistributed)\n",
      "mrcnn_mask_bn4         (TimeDistributed)\n",
      "mrcnn_mask_deconv      (TimeDistributed)\n",
      "WARNING:tensorflow:From /home/jiayu.gan/anaconda3/envs/DL/lib/python3.7/site-packages/keras/optimizers.py:790: The name tf.train.Optimizer is deprecated. Please use tf.compat.v1.train.Optimizer instead.\n",
      "\n",
      "Multiprocessing? True, number of workers 2\n",
      "WARNING:tensorflow:From /home/jiayu.gan/anaconda3/envs/DL/lib/python3.7/site-packages/keras/backend/tensorflow_backend.py:986: The name tf.assign_add is deprecated. Please use tf.compat.v1.assign_add instead.\n",
      "\n",
      "WARNING:tensorflow:From /home/jiayu.gan/anaconda3/envs/DL/lib/python3.7/site-packages/keras/backend/tensorflow_backend.py:973: The name tf.assign is deprecated. Please use tf.compat.v1.assign instead.\n",
      "\n",
      "WARNING:tensorflow:From /home/jiayu.gan/anaconda3/envs/DL/lib/python3.7/site-packages/keras/callbacks.py:850: The name tf.summary.merge_all is deprecated. Please use tf.compat.v1.summary.merge_all instead.\n",
      "\n",
      "WARNING:tensorflow:From /home/jiayu.gan/anaconda3/envs/DL/lib/python3.7/site-packages/keras/callbacks.py:853: The name tf.summary.FileWriter is deprecated. Please use tf.compat.v1.summary.FileWriter instead.\n",
      "\n",
      "Epoch 26/40\n",
      "100/100 [==============================] - 39s 387ms/step - loss: 0.5626 - rpn_class_loss: 0.0000e+00 - rpn_bbox_loss: 0.0000e+00 - mrcnn_class_loss: 0.0000e+00 - mrcnn_bbox_loss: 0.0000e+00 - mrcnn_mask_loss: 0.5626 - val_loss: 1.3842 - val_rpn_class_loss: 0.0000e+00 - val_rpn_bbox_loss: 0.0000e+00 - val_mrcnn_class_loss: 0.0000e+00 - val_mrcnn_bbox_loss: 0.0000e+00 - val_mrcnn_mask_loss: 1.3842\n",
      "WARNING:tensorflow:From /home/jiayu.gan/anaconda3/envs/DL/lib/python3.7/site-packages/keras/callbacks.py:995: The name tf.Summary is deprecated. Please use tf.compat.v1.Summary instead.\n",
      "\n",
      "Epoch 27/40\n",
      "100/100 [==============================] - 29s 293ms/step - loss: 0.2286 - rpn_class_loss: 0.0000e+00 - rpn_bbox_loss: 0.0000e+00 - mrcnn_class_loss: 0.0000e+00 - mrcnn_bbox_loss: 0.0000e+00 - mrcnn_mask_loss: 0.2286 - val_loss: 1.4852 - val_rpn_class_loss: 0.0000e+00 - val_rpn_bbox_loss: 0.0000e+00 - val_mrcnn_class_loss: 0.0000e+00 - val_mrcnn_bbox_loss: 0.0000e+00 - val_mrcnn_mask_loss: 1.4852\n",
      "Epoch 28/40\n",
      "100/100 [==============================] - 30s 300ms/step - loss: 0.2606 - rpn_class_loss: 0.0000e+00 - rpn_bbox_loss: 0.0000e+00 - mrcnn_class_loss: 0.0000e+00 - mrcnn_bbox_loss: 0.0000e+00 - mrcnn_mask_loss: 0.2606 - val_loss: 1.3847 - val_rpn_class_loss: 0.0000e+00 - val_rpn_bbox_loss: 0.0000e+00 - val_mrcnn_class_loss: 0.0000e+00 - val_mrcnn_bbox_loss: 0.0000e+00 - val_mrcnn_mask_loss: 1.3847\n",
      "Epoch 29/40\n",
      "100/100 [==============================] - 30s 303ms/step - loss: 0.1580 - rpn_class_loss: 0.0000e+00 - rpn_bbox_loss: 0.0000e+00 - mrcnn_class_loss: 0.0000e+00 - mrcnn_bbox_loss: 0.0000e+00 - mrcnn_mask_loss: 0.1580 - val_loss: 1.6243 - val_rpn_class_loss: 0.0000e+00 - val_rpn_bbox_loss: 0.0000e+00 - val_mrcnn_class_loss: 0.0000e+00 - val_mrcnn_bbox_loss: 0.0000e+00 - val_mrcnn_mask_loss: 1.6243\n",
      "Epoch 30/40\n",
      "100/100 [==============================] - 30s 302ms/step - loss: 0.1690 - rpn_class_loss: 0.0000e+00 - rpn_bbox_loss: 0.0000e+00 - mrcnn_class_loss: 0.0000e+00 - mrcnn_bbox_loss: 0.0000e+00 - mrcnn_mask_loss: 0.1690 - val_loss: 1.9069 - val_rpn_class_loss: 0.0000e+00 - val_rpn_bbox_loss: 0.0000e+00 - val_mrcnn_class_loss: 0.0000e+00 - val_mrcnn_bbox_loss: 0.0000e+00 - val_mrcnn_mask_loss: 1.9069\n",
      "Epoch 31/40\n",
      "100/100 [==============================] - 30s 302ms/step - loss: 0.1277 - rpn_class_loss: 0.0000e+00 - rpn_bbox_loss: 0.0000e+00 - mrcnn_class_loss: 0.0000e+00 - mrcnn_bbox_loss: 0.0000e+00 - mrcnn_mask_loss: 0.1277 - val_loss: 2.2075 - val_rpn_class_loss: 0.0000e+00 - val_rpn_bbox_loss: 0.0000e+00 - val_mrcnn_class_loss: 0.0000e+00 - val_mrcnn_bbox_loss: 0.0000e+00 - val_mrcnn_mask_loss: 2.2075\n",
      "Epoch 32/40\n"
     ]
    },
    {
     "name": "stdout",
     "output_type": "stream",
     "text": [
      "100/100 [==============================] - 30s 303ms/step - loss: 0.1228 - rpn_class_loss: 0.0000e+00 - rpn_bbox_loss: 0.0000e+00 - mrcnn_class_loss: 0.0000e+00 - mrcnn_bbox_loss: 0.0000e+00 - mrcnn_mask_loss: 0.1228 - val_loss: 2.1406 - val_rpn_class_loss: 0.0000e+00 - val_rpn_bbox_loss: 0.0000e+00 - val_mrcnn_class_loss: 0.0000e+00 - val_mrcnn_bbox_loss: 0.0000e+00 - val_mrcnn_mask_loss: 2.1406\n",
      "Epoch 33/40\n",
      "100/100 [==============================] - 31s 309ms/step - loss: 0.1169 - rpn_class_loss: 0.0000e+00 - rpn_bbox_loss: 0.0000e+00 - mrcnn_class_loss: 0.0000e+00 - mrcnn_bbox_loss: 0.0000e+00 - mrcnn_mask_loss: 0.1169 - val_loss: 2.4679 - val_rpn_class_loss: 0.0000e+00 - val_rpn_bbox_loss: 0.0000e+00 - val_mrcnn_class_loss: 0.0000e+00 - val_mrcnn_bbox_loss: 0.0000e+00 - val_mrcnn_mask_loss: 2.4679\n",
      "Epoch 34/40\n",
      "100/100 [==============================] - 31s 306ms/step - loss: 0.1091 - rpn_class_loss: 0.0000e+00 - rpn_bbox_loss: 0.0000e+00 - mrcnn_class_loss: 0.0000e+00 - mrcnn_bbox_loss: 0.0000e+00 - mrcnn_mask_loss: 0.1091 - val_loss: 2.3935 - val_rpn_class_loss: 0.0000e+00 - val_rpn_bbox_loss: 0.0000e+00 - val_mrcnn_class_loss: 0.0000e+00 - val_mrcnn_bbox_loss: 0.0000e+00 - val_mrcnn_mask_loss: 2.3935\n",
      "Epoch 35/40\n",
      "100/100 [==============================] - 29s 292ms/step - loss: 0.1036 - rpn_class_loss: 0.0000e+00 - rpn_bbox_loss: 0.0000e+00 - mrcnn_class_loss: 0.0000e+00 - mrcnn_bbox_loss: 0.0000e+00 - mrcnn_mask_loss: 0.1036 - val_loss: 2.3882 - val_rpn_class_loss: 0.0000e+00 - val_rpn_bbox_loss: 0.0000e+00 - val_mrcnn_class_loss: 0.0000e+00 - val_mrcnn_bbox_loss: 0.0000e+00 - val_mrcnn_mask_loss: 2.3882\n",
      "Epoch 36/40\n",
      "100/100 [==============================] - 30s 301ms/step - loss: 0.0983 - rpn_class_loss: 0.0000e+00 - rpn_bbox_loss: 0.0000e+00 - mrcnn_class_loss: 0.0000e+00 - mrcnn_bbox_loss: 0.0000e+00 - mrcnn_mask_loss: 0.0983 - val_loss: 2.5112 - val_rpn_class_loss: 0.0000e+00 - val_rpn_bbox_loss: 0.0000e+00 - val_mrcnn_class_loss: 0.0000e+00 - val_mrcnn_bbox_loss: 0.0000e+00 - val_mrcnn_mask_loss: 2.5112\n",
      "Epoch 37/40\n",
      "100/100 [==============================] - 30s 301ms/step - loss: 0.0941 - rpn_class_loss: 0.0000e+00 - rpn_bbox_loss: 0.0000e+00 - mrcnn_class_loss: 0.0000e+00 - mrcnn_bbox_loss: 0.0000e+00 - mrcnn_mask_loss: 0.0941 - val_loss: 2.6589 - val_rpn_class_loss: 0.0000e+00 - val_rpn_bbox_loss: 0.0000e+00 - val_mrcnn_class_loss: 0.0000e+00 - val_mrcnn_bbox_loss: 0.0000e+00 - val_mrcnn_mask_loss: 2.6589\n",
      "Epoch 38/40\n",
      "100/100 [==============================] - 30s 305ms/step - loss: 0.0909 - rpn_class_loss: 0.0000e+00 - rpn_bbox_loss: 0.0000e+00 - mrcnn_class_loss: 0.0000e+00 - mrcnn_bbox_loss: 0.0000e+00 - mrcnn_mask_loss: 0.0909 - val_loss: 2.6849 - val_rpn_class_loss: 0.0000e+00 - val_rpn_bbox_loss: 0.0000e+00 - val_mrcnn_class_loss: 0.0000e+00 - val_mrcnn_bbox_loss: 0.0000e+00 - val_mrcnn_mask_loss: 2.6849\n",
      "Epoch 39/40\n",
      "100/100 [==============================] - 30s 301ms/step - loss: 0.0901 - rpn_class_loss: 0.0000e+00 - rpn_bbox_loss: 0.0000e+00 - mrcnn_class_loss: 0.0000e+00 - mrcnn_bbox_loss: 0.0000e+00 - mrcnn_mask_loss: 0.0901 - val_loss: 2.6431 - val_rpn_class_loss: 0.0000e+00 - val_rpn_bbox_loss: 0.0000e+00 - val_mrcnn_class_loss: 0.0000e+00 - val_mrcnn_bbox_loss: 0.0000e+00 - val_mrcnn_mask_loss: 2.6431\n",
      "Epoch 40/40\n",
      "100/100 [==============================] - 29s 294ms/step - loss: 0.0878 - rpn_class_loss: 0.0000e+00 - rpn_bbox_loss: 0.0000e+00 - mrcnn_class_loss: 0.0000e+00 - mrcnn_bbox_loss: 0.0000e+00 - mrcnn_mask_loss: 0.0878 - val_loss: 2.7988 - val_rpn_class_loss: 0.0000e+00 - val_rpn_bbox_loss: 0.0000e+00 - val_mrcnn_class_loss: 0.0000e+00 - val_mrcnn_bbox_loss: 0.0000e+00 - val_mrcnn_mask_loss: 2.7988\n"
     ]
    }
   ],
   "source": [
    "model_branch = \"bloodcell20201215T1523\"\n",
    "checkpoint_epoch = 25\n",
    "\n",
    "model = modellib.MaskRCNN(mode=\"training\", config=config_B,\n",
    "                          model_dir=MODEL_DIR)\n",
    "model_path = os.path.join(MODEL_DIR, model_branch,\n",
    "                              f\"mask_rcnn_bloodcell_{checkpoint_epoch:04d}.h5\")\n",
    "# Load the last model you trained and continue training\n",
    "model.load_weights(model_path, by_name=True)\n",
    "model.train(dataset_train_B, dataset_val,\n",
    "            learning_rate=config_B.LEARNING_RATE,\n",
    "            epochs=40,\n",
    "            layers=\"mrcnn_mask_heads\")"
   ]
  },
  {
   "cell_type": "code",
   "execution_count": null,
   "metadata": {},
   "outputs": [],
   "source": []
  }
 ],
 "metadata": {
  "kernelspec": {
   "display_name": "Python 3",
   "language": "python",
   "name": "python3"
  },
  "language_info": {
   "codemirror_mode": {
    "name": "ipython",
    "version": 3
   },
   "file_extension": ".py",
   "mimetype": "text/x-python",
   "name": "python",
   "nbconvert_exporter": "python",
   "pygments_lexer": "ipython3",
   "version": "3.7.4"
  }
 },
 "nbformat": 4,
 "nbformat_minor": 4
}
